{
  "cells": [
    {
      "cell_type": "markdown",
      "metadata": {},
      "source": [
        "# Carga de datos de Airbnb desde CSV (en VSCode) a MySQL con SQLAlchemy\n",
        "Este notebook:\n",
        "1. Crea una base de datos MySQL llamada `airbnb_db`.\n",
        "2. Crea tablas: `hosts`, `neighbourhoods`, `listings`, `reviews`.\n",
        "3. Carga archivos CSV directamente a las tablas usando Pandas."
      ]
    },
    {
      "cell_type": "code",
      "execution_count": 1,
      "metadata": {},
      "outputs": [
        {
          "name": "stdout",
          "output_type": "stream",
          "text": [
            "Requirement already satisfied: sqlalchemy in c:\\users\\usuario\\anaconda3\\lib\\site-packages (2.0.34)\n",
            "Collecting pymysql\n",
            "  Downloading PyMySQL-1.1.1-py3-none-any.whl.metadata (4.4 kB)\n",
            "Requirement already satisfied: pandas in c:\\users\\usuario\\anaconda3\\lib\\site-packages (2.2.2)\n",
            "Requirement already satisfied: typing-extensions>=4.6.0 in c:\\users\\usuario\\anaconda3\\lib\\site-packages (from sqlalchemy) (4.11.0)\n",
            "Requirement already satisfied: greenlet!=0.4.17 in c:\\users\\usuario\\anaconda3\\lib\\site-packages (from sqlalchemy) (3.0.1)\n",
            "Requirement already satisfied: numpy>=1.26.0 in c:\\users\\usuario\\anaconda3\\lib\\site-packages (from pandas) (1.26.4)\n",
            "Requirement already satisfied: python-dateutil>=2.8.2 in c:\\users\\usuario\\anaconda3\\lib\\site-packages (from pandas) (2.9.0.post0)\n",
            "Requirement already satisfied: pytz>=2020.1 in c:\\users\\usuario\\anaconda3\\lib\\site-packages (from pandas) (2024.1)\n",
            "Requirement already satisfied: tzdata>=2022.7 in c:\\users\\usuario\\anaconda3\\lib\\site-packages (from pandas) (2023.3)\n",
            "Requirement already satisfied: six>=1.5 in c:\\users\\usuario\\anaconda3\\lib\\site-packages (from python-dateutil>=2.8.2->pandas) (1.16.0)\n",
            "Downloading PyMySQL-1.1.1-py3-none-any.whl (44 kB)\n",
            "Installing collected packages: pymysql\n",
            "Successfully installed pymysql-1.1.1\n",
            "Note: you may need to restart the kernel to use updated packages.\n"
          ]
        }
      ],
      "source": [
        "pip install sqlalchemy pymysql pandas"
      ]
    },
    {
      "cell_type": "code",
      "execution_count": 2,
      "metadata": {},
      "outputs": [],
      "source": [
        "import pandas as pd\n",
        "from sqlalchemy import create_engine, text\n",
        "\n",
        "usuario = \"root\"\n",
        "contraseña = \"123456789\"\n",
        "host = \"localhost\"\n",
        "puerto = \"3306\"\n",
        "\n",
        "# Crear motor inicial\n",
        "engine = create_engine(f\"mysql+pymysql://{usuario}:{contraseña}@{host}:{puerto}\")\n",
        "conn = engine.connect()\n",
        "conn.execute(text(\"DROP DATABASE IF EXISTS airbnb_db\"))\n",
        "conn.execute(text(\"CREATE DATABASE airbnb_db\"))\n",
        "\n",
        "# Conectarse a la nueva base\n",
        "engine = create_engine(f\"mysql+pymysql://{usuario}:{contraseña}@{host}:{puerto}/airbnb_db\")\n",
        "conn = engine.connect()"
      ]
    },
    {
      "cell_type": "code",
      "execution_count": 3,
      "metadata": {},
      "outputs": [
        {
          "data": {
            "text/plain": [
              "<sqlalchemy.engine.cursor.CursorResult at 0x224a2eda2e0>"
            ]
          },
          "execution_count": 3,
          "metadata": {},
          "output_type": "execute_result"
        }
      ],
      "source": [
        "# Crear las tablas\n",
        "conn.execute(text(\"\"\"\n",
        "CREATE TABLE hosts (\n",
        "    host_id BIGINT PRIMARY KEY,\n",
        "    host_name VARCHAR(255) NULL,\n",
        "    calculated_host_listings_count INT NOT NULL\n",
        ");\n",
        "\"\"\"))\n",
        "\n",
        "conn.execute(text(\"\"\"\n",
        "CREATE TABLE neighbourhoods (\n",
        "    neighbourhood_id INT AUTO_INCREMENT PRIMARY KEY,\n",
        "    neighbourhood_group VARCHAR(255) NULL,\n",
        "    neighbourhood VARCHAR(255) NULL\n",
        ");\n",
        "\"\"\"))\n",
        "\n",
        "conn.execute(text(\"\"\"\n",
        "CREATE TABLE listings (\n",
        "    listing_id BIGINT PRIMARY KEY,\n",
        "    name VARCHAR(255) NULL,\n",
        "    host_id BIGINT NOT NULL,\n",
        "    neighbourhood_id INT NOT NULL,\n",
        "    room_type VARCHAR(255) NOT NULL,\n",
        "    price DECIMAL(10,2) NOT NULL,\n",
        "    minimum_nights INT NOT NULL,\n",
        "    availability_365 INT NOT NULL,\n",
        "    FOREIGN KEY (host_id) REFERENCES hosts(host_id),\n",
        "    FOREIGN KEY (neighbourhood_id) REFERENCES neighbourhoods(neighbourhood_id)\n",
        ");\n",
        "\"\"\"))\n",
        "\n",
        "conn.execute(text(\"\"\"\n",
        "CREATE TABLE reviews (\n",
        "    review_id INT AUTO_INCREMENT PRIMARY KEY,\n",
        "    listing_id BIGINT NOT NULL,\n",
        "    number_of_reviews INT NOT NULL,\n",
        "    last_review DATE NULL,\n",
        "    reviews_per_month DECIMAL(4,2) NULL,\n",
        "    FOREIGN KEY (listing_id) REFERENCES listings(listing_id)\n",
        ");\n",
        "\"\"\"))"
      ]
    },
    {
      "cell_type": "code",
      "execution_count": null,
      "metadata": {},
      "outputs": [],
      "source": [
        "# Cargar CSVs\n",
        "hosts_df = pd.read_csv(\"hosts.csv\")\n",
        "neighbourhoods_df = pd.read_csv(\"neighbourhoods.csv\")\n",
        "listings_df = pd.read_csv(\"listings.csv\")\n",
        "reviews_df = pd.read_csv(\"reviews.csv\")"
      ]
    },
    {
      "cell_type": "code",
      "execution_count": 5,
      "metadata": {},
      "outputs": [
        {
          "data": {
            "text/plain": [
              "48895"
            ]
          },
          "execution_count": 5,
          "metadata": {},
          "output_type": "execute_result"
        }
      ],
      "source": [
        "# Insertar en la base de datos\n",
        "hosts_df.to_sql(\"hosts\", con=engine, if_exists=\"append\", index=False)\n",
        "neighbourhoods_df.to_sql(\"neighbourhoods\", con=engine, if_exists=\"append\", index=False)\n",
        "listings_df.to_sql(\"listings\", con=engine, if_exists=\"append\", index=False)\n",
        "reviews_df.to_sql(\"reviews\", con=engine, if_exists=\"append\", index=False)"
      ]
    }
  ],
  "metadata": {
    "kernelspec": {
      "display_name": "base",
      "language": "python",
      "name": "python3"
    },
    "language_info": {
      "codemirror_mode": {
        "name": "ipython",
        "version": 3
      },
      "file_extension": ".py",
      "mimetype": "text/x-python",
      "name": "python",
      "nbconvert_exporter": "python",
      "pygments_lexer": "ipython3",
      "version": "3.12.7"
    }
  },
  "nbformat": 4,
  "nbformat_minor": 5
}
