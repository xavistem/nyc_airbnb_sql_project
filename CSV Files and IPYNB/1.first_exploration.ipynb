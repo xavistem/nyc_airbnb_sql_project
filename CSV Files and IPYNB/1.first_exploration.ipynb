{
 "cells": [
  {
   "cell_type": "code",
   "execution_count": 1,
   "id": "abeff2be",
   "metadata": {},
   "outputs": [],
   "source": [
    "import pandas as pd\n",
    "\n",
    "df_airbnb = pd.read_csv(\"AB_NYC_2019.csv\")"
   ]
  },
  {
   "cell_type": "code",
   "execution_count": 2,
   "id": "3c3e622e",
   "metadata": {},
   "outputs": [
    {
     "data": {
      "text/html": [
       "<div>\n",
       "<style scoped>\n",
       "    .dataframe tbody tr th:only-of-type {\n",
       "        vertical-align: middle;\n",
       "    }\n",
       "\n",
       "    .dataframe tbody tr th {\n",
       "        vertical-align: top;\n",
       "    }\n",
       "\n",
       "    .dataframe thead th {\n",
       "        text-align: right;\n",
       "    }\n",
       "</style>\n",
       "<table border=\"1\" class=\"dataframe\">\n",
       "  <thead>\n",
       "    <tr style=\"text-align: right;\">\n",
       "      <th></th>\n",
       "      <th>id</th>\n",
       "      <th>name</th>\n",
       "      <th>host_id</th>\n",
       "      <th>host_name</th>\n",
       "      <th>neighbourhood_group</th>\n",
       "      <th>neighbourhood</th>\n",
       "      <th>latitude</th>\n",
       "      <th>longitude</th>\n",
       "      <th>room_type</th>\n",
       "      <th>price</th>\n",
       "      <th>minimum_nights</th>\n",
       "      <th>number_of_reviews</th>\n",
       "      <th>last_review</th>\n",
       "      <th>reviews_per_month</th>\n",
       "      <th>calculated_host_listings_count</th>\n",
       "      <th>availability_365</th>\n",
       "    </tr>\n",
       "  </thead>\n",
       "  <tbody>\n",
       "    <tr>\n",
       "      <th>0</th>\n",
       "      <td>2539</td>\n",
       "      <td>Clean &amp; quiet apt home by the park</td>\n",
       "      <td>2787</td>\n",
       "      <td>John</td>\n",
       "      <td>Brooklyn</td>\n",
       "      <td>Kensington</td>\n",
       "      <td>40.64749</td>\n",
       "      <td>-73.97237</td>\n",
       "      <td>Private room</td>\n",
       "      <td>149</td>\n",
       "      <td>1</td>\n",
       "      <td>9</td>\n",
       "      <td>2018-10-19</td>\n",
       "      <td>0.21</td>\n",
       "      <td>6</td>\n",
       "      <td>365</td>\n",
       "    </tr>\n",
       "    <tr>\n",
       "      <th>1</th>\n",
       "      <td>2595</td>\n",
       "      <td>Skylit Midtown Castle</td>\n",
       "      <td>2845</td>\n",
       "      <td>Jennifer</td>\n",
       "      <td>Manhattan</td>\n",
       "      <td>Midtown</td>\n",
       "      <td>40.75362</td>\n",
       "      <td>-73.98377</td>\n",
       "      <td>Entire home/apt</td>\n",
       "      <td>225</td>\n",
       "      <td>1</td>\n",
       "      <td>45</td>\n",
       "      <td>2019-05-21</td>\n",
       "      <td>0.38</td>\n",
       "      <td>2</td>\n",
       "      <td>355</td>\n",
       "    </tr>\n",
       "    <tr>\n",
       "      <th>2</th>\n",
       "      <td>3647</td>\n",
       "      <td>THE VILLAGE OF HARLEM....NEW YORK !</td>\n",
       "      <td>4632</td>\n",
       "      <td>Elisabeth</td>\n",
       "      <td>Manhattan</td>\n",
       "      <td>Harlem</td>\n",
       "      <td>40.80902</td>\n",
       "      <td>-73.94190</td>\n",
       "      <td>Private room</td>\n",
       "      <td>150</td>\n",
       "      <td>3</td>\n",
       "      <td>0</td>\n",
       "      <td>NaN</td>\n",
       "      <td>NaN</td>\n",
       "      <td>1</td>\n",
       "      <td>365</td>\n",
       "    </tr>\n",
       "    <tr>\n",
       "      <th>3</th>\n",
       "      <td>3831</td>\n",
       "      <td>Cozy Entire Floor of Brownstone</td>\n",
       "      <td>4869</td>\n",
       "      <td>LisaRoxanne</td>\n",
       "      <td>Brooklyn</td>\n",
       "      <td>Clinton Hill</td>\n",
       "      <td>40.68514</td>\n",
       "      <td>-73.95976</td>\n",
       "      <td>Entire home/apt</td>\n",
       "      <td>89</td>\n",
       "      <td>1</td>\n",
       "      <td>270</td>\n",
       "      <td>2019-07-05</td>\n",
       "      <td>4.64</td>\n",
       "      <td>1</td>\n",
       "      <td>194</td>\n",
       "    </tr>\n",
       "    <tr>\n",
       "      <th>4</th>\n",
       "      <td>5022</td>\n",
       "      <td>Entire Apt: Spacious Studio/Loft by central park</td>\n",
       "      <td>7192</td>\n",
       "      <td>Laura</td>\n",
       "      <td>Manhattan</td>\n",
       "      <td>East Harlem</td>\n",
       "      <td>40.79851</td>\n",
       "      <td>-73.94399</td>\n",
       "      <td>Entire home/apt</td>\n",
       "      <td>80</td>\n",
       "      <td>10</td>\n",
       "      <td>9</td>\n",
       "      <td>2018-11-19</td>\n",
       "      <td>0.10</td>\n",
       "      <td>1</td>\n",
       "      <td>0</td>\n",
       "    </tr>\n",
       "  </tbody>\n",
       "</table>\n",
       "</div>"
      ],
      "text/plain": [
       "     id                                              name  host_id  \\\n",
       "0  2539                Clean & quiet apt home by the park     2787   \n",
       "1  2595                             Skylit Midtown Castle     2845   \n",
       "2  3647               THE VILLAGE OF HARLEM....NEW YORK !     4632   \n",
       "3  3831                   Cozy Entire Floor of Brownstone     4869   \n",
       "4  5022  Entire Apt: Spacious Studio/Loft by central park     7192   \n",
       "\n",
       "     host_name neighbourhood_group neighbourhood  latitude  longitude  \\\n",
       "0         John            Brooklyn    Kensington  40.64749  -73.97237   \n",
       "1     Jennifer           Manhattan       Midtown  40.75362  -73.98377   \n",
       "2    Elisabeth           Manhattan        Harlem  40.80902  -73.94190   \n",
       "3  LisaRoxanne            Brooklyn  Clinton Hill  40.68514  -73.95976   \n",
       "4        Laura           Manhattan   East Harlem  40.79851  -73.94399   \n",
       "\n",
       "         room_type  price  minimum_nights  number_of_reviews last_review  \\\n",
       "0     Private room    149               1                  9  2018-10-19   \n",
       "1  Entire home/apt    225               1                 45  2019-05-21   \n",
       "2     Private room    150               3                  0         NaN   \n",
       "3  Entire home/apt     89               1                270  2019-07-05   \n",
       "4  Entire home/apt     80              10                  9  2018-11-19   \n",
       "\n",
       "   reviews_per_month  calculated_host_listings_count  availability_365  \n",
       "0               0.21                               6               365  \n",
       "1               0.38                               2               355  \n",
       "2                NaN                               1               365  \n",
       "3               4.64                               1               194  \n",
       "4               0.10                               1                 0  "
      ]
     },
     "execution_count": 2,
     "metadata": {},
     "output_type": "execute_result"
    }
   ],
   "source": [
    "df_airbnb.head()"
   ]
  },
  {
   "cell_type": "code",
   "execution_count": 3,
   "id": "bc38e713",
   "metadata": {},
   "outputs": [
    {
     "data": {
      "text/plain": [
       "(48895, 16)"
      ]
     },
     "execution_count": 3,
     "metadata": {},
     "output_type": "execute_result"
    }
   ],
   "source": [
    "df_airbnb.shape"
   ]
  },
  {
   "cell_type": "code",
   "execution_count": 4,
   "id": "674c6d2b",
   "metadata": {},
   "outputs": [
    {
     "data": {
      "text/plain": [
       "Index(['id', 'name', 'host_id', 'host_name', 'neighbourhood_group',\n",
       "       'neighbourhood', 'latitude', 'longitude', 'room_type', 'price',\n",
       "       'minimum_nights', 'number_of_reviews', 'last_review',\n",
       "       'reviews_per_month', 'calculated_host_listings_count',\n",
       "       'availability_365'],\n",
       "      dtype='object')"
      ]
     },
     "execution_count": 4,
     "metadata": {},
     "output_type": "execute_result"
    }
   ],
   "source": [
    "df_airbnb.columns"
   ]
  },
  {
   "cell_type": "markdown",
   "id": "36d76ef8",
   "metadata": {},
   "source": [
    "### Convertir el dataset de Airbnb en varias tablas:\n",
    "\n",
    "1. hosts\n",
    "- host_id (PK)\n",
    "- host_name\n",
    "- calculated_host_listings_count\n",
    "\n",
    "2. neighbourhoods\n",
    "- neighbourhood_id (PK, AUTO_INCREMENT)\n",
    "- neighbourhood_group\n",
    "- neighbourhood\n",
    "\n",
    "3. listings\n",
    "- listing_id (PK)\n",
    "- name\n",
    "- host_id (FK: hosts.host_id)\n",
    "- neighbourhood_id (FK: neighbourhoods.neighbourhood_id)\n",
    "- room_type\n",
    "- price\n",
    "- minimum_nights\n",
    "- availability_365\n",
    "\n",
    "4. reviews\n",
    "- review_id (PK, AUTO_INCREMENT)\n",
    "- listing_id (FK: listings.listing_id)\n",
    "- number_of_reviews\n",
    "- last_review (DATE)\n",
    "- reviews_per_month"
   ]
  },
  {
   "cell_type": "markdown",
   "id": "73adfcbe",
   "metadata": {},
   "source": [
    "### Tabla Host"
   ]
  },
  {
   "cell_type": "code",
   "execution_count": 5,
   "id": "c91db52d",
   "metadata": {},
   "outputs": [],
   "source": [
    "hosts = (\n",
    "    df_airbnb[\n",
    "        ['host_id', 'host_name', 'calculated_host_listings_count']\n",
    "    ]\n",
    "    .drop_duplicates()\n",
    "    .reset_index(drop=True)\n",
    ")\n",
    "\n",
    "# Guardamos el csv\n",
    "hosts.to_csv('hosts.csv', index=False)"
   ]
  },
  {
   "cell_type": "code",
   "execution_count": 6,
   "id": "628f862d",
   "metadata": {},
   "outputs": [
    {
     "data": {
      "text/html": [
       "<div>\n",
       "<style scoped>\n",
       "    .dataframe tbody tr th:only-of-type {\n",
       "        vertical-align: middle;\n",
       "    }\n",
       "\n",
       "    .dataframe tbody tr th {\n",
       "        vertical-align: top;\n",
       "    }\n",
       "\n",
       "    .dataframe thead th {\n",
       "        text-align: right;\n",
       "    }\n",
       "</style>\n",
       "<table border=\"1\" class=\"dataframe\">\n",
       "  <thead>\n",
       "    <tr style=\"text-align: right;\">\n",
       "      <th></th>\n",
       "      <th>host_id</th>\n",
       "      <th>host_name</th>\n",
       "      <th>calculated_host_listings_count</th>\n",
       "    </tr>\n",
       "  </thead>\n",
       "  <tbody>\n",
       "    <tr>\n",
       "      <th>0</th>\n",
       "      <td>2787</td>\n",
       "      <td>John</td>\n",
       "      <td>6</td>\n",
       "    </tr>\n",
       "    <tr>\n",
       "      <th>1</th>\n",
       "      <td>2845</td>\n",
       "      <td>Jennifer</td>\n",
       "      <td>2</td>\n",
       "    </tr>\n",
       "    <tr>\n",
       "      <th>2</th>\n",
       "      <td>4632</td>\n",
       "      <td>Elisabeth</td>\n",
       "      <td>1</td>\n",
       "    </tr>\n",
       "    <tr>\n",
       "      <th>3</th>\n",
       "      <td>4869</td>\n",
       "      <td>LisaRoxanne</td>\n",
       "      <td>1</td>\n",
       "    </tr>\n",
       "    <tr>\n",
       "      <th>4</th>\n",
       "      <td>7192</td>\n",
       "      <td>Laura</td>\n",
       "      <td>1</td>\n",
       "    </tr>\n",
       "  </tbody>\n",
       "</table>\n",
       "</div>"
      ],
      "text/plain": [
       "   host_id    host_name  calculated_host_listings_count\n",
       "0     2787         John                               6\n",
       "1     2845     Jennifer                               2\n",
       "2     4632    Elisabeth                               1\n",
       "3     4869  LisaRoxanne                               1\n",
       "4     7192        Laura                               1"
      ]
     },
     "execution_count": 6,
     "metadata": {},
     "output_type": "execute_result"
    }
   ],
   "source": [
    "df_hosts = pd.read_csv(\"hosts.csv\")\n",
    "df_hosts.head()"
   ]
  },
  {
   "cell_type": "code",
   "execution_count": 7,
   "id": "43ccfeba",
   "metadata": {},
   "outputs": [
    {
     "name": "stdout",
     "output_type": "stream",
     "text": [
      "Duplicados en host_id: 0\n",
      "host_id                            0\n",
      "host_name                         18\n",
      "calculated_host_listings_count     0\n",
      "dtype: int64\n"
     ]
    }
   ],
   "source": [
    "# Ver duplicados en host_id (PK)\n",
    "print(\"Duplicados en host_id:\", df_hosts['host_id'].duplicated().sum())\n",
    "\n",
    "# Nulos\n",
    "print(hosts.isnull().sum())"
   ]
  },
  {
   "cell_type": "markdown",
   "id": "c6a6db7a",
   "metadata": {},
   "source": [
    "### Tabla Neighbourhoods"
   ]
  },
  {
   "cell_type": "code",
   "execution_count": null,
   "id": "e35ea6bf",
   "metadata": {},
   "outputs": [],
   "source": [
    "nb = (\n",
    "    df_airbnb[\n",
    "        ['neighbourhood_group', 'neighbourhood']\n",
    "    ]\n",
    "    .drop_duplicates()\n",
    "    .reset_index(drop=True)\n",
    ")\n",
    "\n",
    "# Simulamos auto-increment\n",
    "nb['neighbourhood_id'] = nb.index + 1\n",
    "\n",
    "# Reordena columnas\n",
    "nb = nb[['neighbourhood_id', 'neighbourhood_group', 'neighbourhood']]\n",
    "\n",
    "nb.to_csv('neighbourhoods.csv', index=False)"
   ]
  },
  {
   "cell_type": "code",
   "execution_count": 9,
   "id": "be77671d",
   "metadata": {},
   "outputs": [
    {
     "data": {
      "text/html": [
       "<div>\n",
       "<style scoped>\n",
       "    .dataframe tbody tr th:only-of-type {\n",
       "        vertical-align: middle;\n",
       "    }\n",
       "\n",
       "    .dataframe tbody tr th {\n",
       "        vertical-align: top;\n",
       "    }\n",
       "\n",
       "    .dataframe thead th {\n",
       "        text-align: right;\n",
       "    }\n",
       "</style>\n",
       "<table border=\"1\" class=\"dataframe\">\n",
       "  <thead>\n",
       "    <tr style=\"text-align: right;\">\n",
       "      <th></th>\n",
       "      <th>neighbourhood_id</th>\n",
       "      <th>neighbourhood_group</th>\n",
       "      <th>neighbourhood</th>\n",
       "    </tr>\n",
       "  </thead>\n",
       "  <tbody>\n",
       "    <tr>\n",
       "      <th>0</th>\n",
       "      <td>1</td>\n",
       "      <td>Brooklyn</td>\n",
       "      <td>Kensington</td>\n",
       "    </tr>\n",
       "    <tr>\n",
       "      <th>1</th>\n",
       "      <td>2</td>\n",
       "      <td>Manhattan</td>\n",
       "      <td>Midtown</td>\n",
       "    </tr>\n",
       "    <tr>\n",
       "      <th>2</th>\n",
       "      <td>3</td>\n",
       "      <td>Manhattan</td>\n",
       "      <td>Harlem</td>\n",
       "    </tr>\n",
       "    <tr>\n",
       "      <th>3</th>\n",
       "      <td>4</td>\n",
       "      <td>Brooklyn</td>\n",
       "      <td>Clinton Hill</td>\n",
       "    </tr>\n",
       "    <tr>\n",
       "      <th>4</th>\n",
       "      <td>5</td>\n",
       "      <td>Manhattan</td>\n",
       "      <td>East Harlem</td>\n",
       "    </tr>\n",
       "  </tbody>\n",
       "</table>\n",
       "</div>"
      ],
      "text/plain": [
       "   neighbourhood_id neighbourhood_group neighbourhood\n",
       "0                 1            Brooklyn    Kensington\n",
       "1                 2           Manhattan       Midtown\n",
       "2                 3           Manhattan        Harlem\n",
       "3                 4            Brooklyn  Clinton Hill\n",
       "4                 5           Manhattan   East Harlem"
      ]
     },
     "execution_count": 9,
     "metadata": {},
     "output_type": "execute_result"
    }
   ],
   "source": [
    "df_neighbourhoods = pd.read_csv(\"neighbourhoods.csv\")\n",
    "df_neighbourhoods.head()"
   ]
  },
  {
   "cell_type": "code",
   "execution_count": 10,
   "id": "4cdbb2e3",
   "metadata": {},
   "outputs": [
    {
     "data": {
      "text/plain": [
       "221"
      ]
     },
     "execution_count": 10,
     "metadata": {},
     "output_type": "execute_result"
    }
   ],
   "source": [
    "df_neighbourhoods['neighbourhood'].nunique()"
   ]
  },
  {
   "cell_type": "code",
   "execution_count": 11,
   "id": "739d6cc0",
   "metadata": {},
   "outputs": [
    {
     "data": {
      "text/plain": [
       "neighbourhood\n",
       "Kensington             1\n",
       "Springfield Gardens    1\n",
       "Norwood                1\n",
       "Claremont Village      1\n",
       "Whitestone             1\n",
       "                      ..\n",
       "Tribeca                1\n",
       "Shore Acres            1\n",
       "Sunset Park            1\n",
       "Concourse              1\n",
       "Willowbrook            1\n",
       "Name: count, Length: 221, dtype: int64"
      ]
     },
     "execution_count": 11,
     "metadata": {},
     "output_type": "execute_result"
    }
   ],
   "source": [
    "df_neighbourhoods['neighbourhood'].value_counts()"
   ]
  },
  {
   "cell_type": "code",
   "execution_count": 12,
   "id": "37dedafd",
   "metadata": {},
   "outputs": [
    {
     "data": {
      "text/plain": [
       "Series([], Name: count, dtype: int64)"
      ]
     },
     "execution_count": 12,
     "metadata": {},
     "output_type": "execute_result"
    }
   ],
   "source": [
    "# Mostrar todos los valores que se repiten más de una vez\n",
    "df_neighbourhoods['neighbourhood'].value_counts()[df_neighbourhoods['neighbourhood'].value_counts() > 1]\n"
   ]
  },
  {
   "cell_type": "code",
   "execution_count": 13,
   "id": "2b2b9eb6",
   "metadata": {},
   "outputs": [
    {
     "name": "stdout",
     "output_type": "stream",
     "text": [
      "Duplicados en neighbourhood_id: 0\n",
      "neighbourhood_id       0\n",
      "neighbourhood_group    0\n",
      "neighbourhood          0\n",
      "dtype: int64\n"
     ]
    }
   ],
   "source": [
    "# Duplicados en neighbourhood_id\n",
    "print(\"Duplicados en neighbourhood_id:\", df_neighbourhoods['neighbourhood_id'].duplicated().sum())\n",
    "\n",
    "# Nulos\n",
    "print(df_neighbourhoods.isnull().sum())"
   ]
  },
  {
   "cell_type": "markdown",
   "id": "f4c7ebfb",
   "metadata": {},
   "source": [
    "### Tabla Listings"
   ]
  },
  {
   "cell_type": "code",
   "execution_count": 14,
   "id": "7f19132e",
   "metadata": {},
   "outputs": [],
   "source": [
    "# Renombrar id\n",
    "df_airbnb = df_airbnb.rename(columns={'id': 'listing_id'})\n",
    "\n",
    "# Hacemos merge para añadir neighbourhood_id\n",
    "listings = df_airbnb.merge(\n",
    "    nb,\n",
    "    on=['neighbourhood_group', 'neighbourhood'],\n",
    "    how='left'\n",
    ")\n",
    "\n",
    "# Nos quedamos con las columnas que queremos\n",
    "listings = listings[\n",
    "    ['listing_id', 'name', 'host_id', 'neighbourhood_id',\n",
    "     'room_type', 'price', 'minimum_nights', 'availability_365']\n",
    "].copy()\n",
    "\n",
    "listings.to_csv('listings.csv', index=False)"
   ]
  },
  {
   "cell_type": "code",
   "execution_count": 15,
   "id": "6ddac5d5",
   "metadata": {},
   "outputs": [
    {
     "data": {
      "text/html": [
       "<div>\n",
       "<style scoped>\n",
       "    .dataframe tbody tr th:only-of-type {\n",
       "        vertical-align: middle;\n",
       "    }\n",
       "\n",
       "    .dataframe tbody tr th {\n",
       "        vertical-align: top;\n",
       "    }\n",
       "\n",
       "    .dataframe thead th {\n",
       "        text-align: right;\n",
       "    }\n",
       "</style>\n",
       "<table border=\"1\" class=\"dataframe\">\n",
       "  <thead>\n",
       "    <tr style=\"text-align: right;\">\n",
       "      <th></th>\n",
       "      <th>listing_id</th>\n",
       "      <th>name</th>\n",
       "      <th>host_id</th>\n",
       "      <th>neighbourhood_id</th>\n",
       "      <th>room_type</th>\n",
       "      <th>price</th>\n",
       "      <th>minimum_nights</th>\n",
       "      <th>availability_365</th>\n",
       "    </tr>\n",
       "  </thead>\n",
       "  <tbody>\n",
       "    <tr>\n",
       "      <th>0</th>\n",
       "      <td>2539</td>\n",
       "      <td>Clean &amp; quiet apt home by the park</td>\n",
       "      <td>2787</td>\n",
       "      <td>1</td>\n",
       "      <td>Private room</td>\n",
       "      <td>149</td>\n",
       "      <td>1</td>\n",
       "      <td>365</td>\n",
       "    </tr>\n",
       "    <tr>\n",
       "      <th>1</th>\n",
       "      <td>2595</td>\n",
       "      <td>Skylit Midtown Castle</td>\n",
       "      <td>2845</td>\n",
       "      <td>2</td>\n",
       "      <td>Entire home/apt</td>\n",
       "      <td>225</td>\n",
       "      <td>1</td>\n",
       "      <td>355</td>\n",
       "    </tr>\n",
       "    <tr>\n",
       "      <th>2</th>\n",
       "      <td>3647</td>\n",
       "      <td>THE VILLAGE OF HARLEM....NEW YORK !</td>\n",
       "      <td>4632</td>\n",
       "      <td>3</td>\n",
       "      <td>Private room</td>\n",
       "      <td>150</td>\n",
       "      <td>3</td>\n",
       "      <td>365</td>\n",
       "    </tr>\n",
       "    <tr>\n",
       "      <th>3</th>\n",
       "      <td>3831</td>\n",
       "      <td>Cozy Entire Floor of Brownstone</td>\n",
       "      <td>4869</td>\n",
       "      <td>4</td>\n",
       "      <td>Entire home/apt</td>\n",
       "      <td>89</td>\n",
       "      <td>1</td>\n",
       "      <td>194</td>\n",
       "    </tr>\n",
       "    <tr>\n",
       "      <th>4</th>\n",
       "      <td>5022</td>\n",
       "      <td>Entire Apt: Spacious Studio/Loft by central park</td>\n",
       "      <td>7192</td>\n",
       "      <td>5</td>\n",
       "      <td>Entire home/apt</td>\n",
       "      <td>80</td>\n",
       "      <td>10</td>\n",
       "      <td>0</td>\n",
       "    </tr>\n",
       "  </tbody>\n",
       "</table>\n",
       "</div>"
      ],
      "text/plain": [
       "   listing_id                                              name  host_id  \\\n",
       "0        2539                Clean & quiet apt home by the park     2787   \n",
       "1        2595                             Skylit Midtown Castle     2845   \n",
       "2        3647               THE VILLAGE OF HARLEM....NEW YORK !     4632   \n",
       "3        3831                   Cozy Entire Floor of Brownstone     4869   \n",
       "4        5022  Entire Apt: Spacious Studio/Loft by central park     7192   \n",
       "\n",
       "   neighbourhood_id        room_type  price  minimum_nights  availability_365  \n",
       "0                 1     Private room    149               1               365  \n",
       "1                 2  Entire home/apt    225               1               355  \n",
       "2                 3     Private room    150               3               365  \n",
       "3                 4  Entire home/apt     89               1               194  \n",
       "4                 5  Entire home/apt     80              10                 0  "
      ]
     },
     "execution_count": 15,
     "metadata": {},
     "output_type": "execute_result"
    }
   ],
   "source": [
    "df_listings = pd.read_csv(\"listings.csv\")\n",
    "df_listings.head()"
   ]
  },
  {
   "cell_type": "code",
   "execution_count": 16,
   "id": "95cc2c03",
   "metadata": {},
   "outputs": [
    {
     "data": {
      "text/plain": [
       "47905"
      ]
     },
     "execution_count": 16,
     "metadata": {},
     "output_type": "execute_result"
    }
   ],
   "source": [
    "df_listings['name'].nunique()"
   ]
  },
  {
   "cell_type": "code",
   "execution_count": 17,
   "id": "a5c625a0",
   "metadata": {},
   "outputs": [
    {
     "name": "stdout",
     "output_type": "stream",
     "text": [
      "Duplicados en listing_id: 0\n",
      "listing_id           0\n",
      "name                16\n",
      "host_id              0\n",
      "neighbourhood_id     0\n",
      "room_type            0\n",
      "price                0\n",
      "minimum_nights       0\n",
      "availability_365     0\n",
      "dtype: int64\n",
      "Hosts no encontrados: False\n",
      "Neighbourhoods no encontrados: False\n"
     ]
    }
   ],
   "source": [
    "print(\"Duplicados en listing_id:\", df_listings['listing_id'].duplicated().sum())\n",
    "print(df_listings.isnull().sum())\n",
    "\n",
    "# Validar claves foráneas\n",
    "print(\"Hosts no encontrados:\", ~df_listings['host_id'].isin(df_hosts['host_id']).all())\n",
    "print(\"Neighbourhoods no encontrados:\", ~df_listings['neighbourhood_id'].isin(df_neighbourhoods['neighbourhood_id']).all())"
   ]
  },
  {
   "cell_type": "markdown",
   "id": "8ca2d84f",
   "metadata": {},
   "source": [
    "### Tabla Reviews"
   ]
  },
  {
   "cell_type": "code",
   "execution_count": 18,
   "id": "e6b52f70",
   "metadata": {},
   "outputs": [],
   "source": [
    "rev = df_airbnb[\n",
    "    ['listing_id', 'number_of_reviews', 'last_review', 'reviews_per_month']\n",
    "].copy()\n",
    "\n",
    "# Convertir fecha\n",
    "rev['last_review'] = pd.to_datetime(rev['last_review'])\n",
    "\n",
    "# Simular AUTO_INCREMENT para review_id\n",
    "rev = rev.reset_index(drop=True)\n",
    "rev['review_id'] = rev.index + 1\n",
    "\n",
    "# Reordenar\n",
    "rev = rev[\n",
    "    ['review_id', 'listing_id',\n",
    "     'number_of_reviews', 'last_review', 'reviews_per_month']\n",
    "]\n",
    "\n",
    "rev.to_csv('reviews.csv', index=False)"
   ]
  },
  {
   "cell_type": "code",
   "execution_count": 19,
   "id": "fd21d07d",
   "metadata": {},
   "outputs": [
    {
     "data": {
      "text/html": [
       "<div>\n",
       "<style scoped>\n",
       "    .dataframe tbody tr th:only-of-type {\n",
       "        vertical-align: middle;\n",
       "    }\n",
       "\n",
       "    .dataframe tbody tr th {\n",
       "        vertical-align: top;\n",
       "    }\n",
       "\n",
       "    .dataframe thead th {\n",
       "        text-align: right;\n",
       "    }\n",
       "</style>\n",
       "<table border=\"1\" class=\"dataframe\">\n",
       "  <thead>\n",
       "    <tr style=\"text-align: right;\">\n",
       "      <th></th>\n",
       "      <th>review_id</th>\n",
       "      <th>listing_id</th>\n",
       "      <th>number_of_reviews</th>\n",
       "      <th>last_review</th>\n",
       "      <th>reviews_per_month</th>\n",
       "    </tr>\n",
       "  </thead>\n",
       "  <tbody>\n",
       "    <tr>\n",
       "      <th>0</th>\n",
       "      <td>1</td>\n",
       "      <td>2539</td>\n",
       "      <td>9</td>\n",
       "      <td>2018-10-19</td>\n",
       "      <td>0.21</td>\n",
       "    </tr>\n",
       "    <tr>\n",
       "      <th>1</th>\n",
       "      <td>2</td>\n",
       "      <td>2595</td>\n",
       "      <td>45</td>\n",
       "      <td>2019-05-21</td>\n",
       "      <td>0.38</td>\n",
       "    </tr>\n",
       "    <tr>\n",
       "      <th>2</th>\n",
       "      <td>3</td>\n",
       "      <td>3647</td>\n",
       "      <td>0</td>\n",
       "      <td>NaN</td>\n",
       "      <td>NaN</td>\n",
       "    </tr>\n",
       "    <tr>\n",
       "      <th>3</th>\n",
       "      <td>4</td>\n",
       "      <td>3831</td>\n",
       "      <td>270</td>\n",
       "      <td>2019-07-05</td>\n",
       "      <td>4.64</td>\n",
       "    </tr>\n",
       "    <tr>\n",
       "      <th>4</th>\n",
       "      <td>5</td>\n",
       "      <td>5022</td>\n",
       "      <td>9</td>\n",
       "      <td>2018-11-19</td>\n",
       "      <td>0.10</td>\n",
       "    </tr>\n",
       "  </tbody>\n",
       "</table>\n",
       "</div>"
      ],
      "text/plain": [
       "   review_id  listing_id  number_of_reviews last_review  reviews_per_month\n",
       "0          1        2539                  9  2018-10-19               0.21\n",
       "1          2        2595                 45  2019-05-21               0.38\n",
       "2          3        3647                  0         NaN                NaN\n",
       "3          4        3831                270  2019-07-05               4.64\n",
       "4          5        5022                  9  2018-11-19               0.10"
      ]
     },
     "execution_count": 19,
     "metadata": {},
     "output_type": "execute_result"
    }
   ],
   "source": [
    "df_reviews = pd.read_csv(\"reviews.csv\")\n",
    "df_reviews.head()"
   ]
  },
  {
   "cell_type": "code",
   "execution_count": 20,
   "id": "7ae31581",
   "metadata": {},
   "outputs": [
    {
     "name": "stdout",
     "output_type": "stream",
     "text": [
      "Duplicados en review_id (si existe): 0\n",
      "review_id                0\n",
      "listing_id               0\n",
      "number_of_reviews        0\n",
      "last_review          10052\n",
      "reviews_per_month    10052\n",
      "dtype: int64\n",
      "Listings no encontrados: False\n",
      "Filas completamente vacías: 0\n"
     ]
    }
   ],
   "source": [
    "print(\"Duplicados en review_id (si existe):\", df_reviews.get('review_id', pd.Series()).duplicated().sum())\n",
    "print(df_reviews.isnull().sum())\n",
    "\n",
    "# Validar claves foráneas\n",
    "print(\"Listings no encontrados:\", ~df_reviews['listing_id'].isin(listings['listing_id']).all())\n",
    "\n",
    "# Filas completamente vacías\n",
    "print(\"Filas completamente vacías:\", df_reviews.isnull().all(axis=1).sum())"
   ]
  },
  {
   "cell_type": "markdown",
   "id": "29f20c0f",
   "metadata": {},
   "source": [
    "### Comprobar si se ha importado todo a MYSQL Workbench"
   ]
  },
  {
   "cell_type": "code",
   "execution_count": 21,
   "id": "b996f404",
   "metadata": {},
   "outputs": [
    {
     "name": "stdout",
     "output_type": "stream",
     "text": [
      "Hosts: 37457\n",
      "Neighbourhoods: 221\n",
      "Listings: 48895\n",
      "Reviews: 48895\n"
     ]
    }
   ],
   "source": [
    "print(\"Hosts:\", len(df_hosts))\n",
    "print(\"Neighbourhoods:\", len(df_neighbourhoods))\n",
    "print(\"Listings:\", len(df_listings))\n",
    "print(\"Reviews:\", len(df_reviews))"
   ]
  }
 ],
 "metadata": {
  "kernelspec": {
   "display_name": "base",
   "language": "python",
   "name": "python3"
  },
  "language_info": {
   "codemirror_mode": {
    "name": "ipython",
    "version": 3
   },
   "file_extension": ".py",
   "mimetype": "text/x-python",
   "name": "python",
   "nbconvert_exporter": "python",
   "pygments_lexer": "ipython3",
   "version": "3.12.7"
  }
 },
 "nbformat": 4,
 "nbformat_minor": 5
}
